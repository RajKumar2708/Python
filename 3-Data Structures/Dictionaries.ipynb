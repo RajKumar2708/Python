{
 "cells": [
  {
   "cell_type": "code",
   "execution_count": 7,
   "id": "9052a1ce",
   "metadata": {},
   "outputs": [
    {
     "name": "stdout",
     "output_type": "stream",
     "text": [
      "{'name': 'raj', 'age': 19, 'grade': 'A'}\n",
      "<class 'dict'>\n"
     ]
    }
   ],
   "source": [
    "student={\"name\":\"raj\",\"age\":19,\"grade\":\"A\"}\n",
    "print(student)\n",
    "print(type(student))"
   ]
  },
  {
   "cell_type": "code",
   "execution_count": 8,
   "id": "b652af61",
   "metadata": {},
   "outputs": [
    {
     "name": "stdout",
     "output_type": "stream",
     "text": [
      "A\n",
      "19\n",
      "Not Available\n"
     ]
    }
   ],
   "source": [
    "print(student['grade'])\n",
    "print(student.get(\"age\"))\n",
    "print(student.get(\"lname\",\"Not Available\"))"
   ]
  },
  {
   "cell_type": "code",
   "execution_count": null,
   "id": "b9b381c5",
   "metadata": {},
   "outputs": [
    {
     "name": "stdout",
     "output_type": "stream",
     "text": [
      "{'name': 'raj', 'age': 33, 'grade': 'A', 'address': 'India'}\n",
      "{'name': 'raj', 'age': 33, 'grade': 'A', 'address': 'India'}\n"
     ]
    }
   ],
   "source": [
    "#adding and updating key value and key\n",
    "student[\"age\"]=33\n",
    "print(student)\n",
    "student[\"address\"]=\"India\"\n",
    "print(student)"
   ]
  },
  {
   "cell_type": "code",
   "execution_count": 14,
   "id": "58e3e88c",
   "metadata": {},
   "outputs": [
    {
     "name": "stdout",
     "output_type": "stream",
     "text": [
      "{'name': 'raj', 'age': 33, 'grade': 'A'}\n"
     ]
    }
   ],
   "source": [
    "#deleting pair\n",
    "\n",
    "del student['address']\n",
    "print(student)"
   ]
  },
  {
   "cell_type": "code",
   "execution_count": 16,
   "id": "33dbbcd9",
   "metadata": {},
   "outputs": [
    {
     "name": "stdout",
     "output_type": "stream",
     "text": [
      "dict_keys(['name', 'age', 'grade'])\n",
      "dict_values(['raj', 33, 'A'])\n",
      "dict_items([('name', 'raj'), ('age', 33), ('grade', 'A')])\n"
     ]
    }
   ],
   "source": [
    "#Dictionary methods\n",
    "\n",
    "keys=student.keys()\n",
    "value=student.values()\n",
    "print(keys)\n",
    "print(value)\n",
    "\n",
    "items=student.items()\n",
    "print(items)"
   ]
  },
  {
   "cell_type": "code",
   "execution_count": 18,
   "id": "00a95f42",
   "metadata": {},
   "outputs": [
    {
     "name": "stdout",
     "output_type": "stream",
     "text": [
      "{'name': 'raj', 'age': 33, 'grade': 'A'}\n"
     ]
    }
   ],
   "source": [
    "#Shallow Copy\n",
    "student_copy=student.copy()\n",
    "print(student_copy)"
   ]
  },
  {
   "cell_type": "code",
   "execution_count": 21,
   "id": "b3bba455",
   "metadata": {},
   "outputs": [
    {
     "name": "stdout",
     "output_type": "stream",
     "text": [
      "name\n",
      "age\n",
      "grade\n",
      "raj\n",
      "33\n",
      "A\n"
     ]
    }
   ],
   "source": [
    "#Iterating over Key and value\n",
    "for keys in student.keys():\n",
    "    print(keys)\n",
    "\n",
    "for value in student.values():\n",
    "    print(value)"
   ]
  },
  {
   "cell_type": "code",
   "execution_count": 23,
   "id": "9ad0e32e",
   "metadata": {},
   "outputs": [
    {
     "name": "stdout",
     "output_type": "stream",
     "text": [
      "name:raj\n",
      "age:33\n",
      "grade:A\n"
     ]
    }
   ],
   "source": [
    "#Iterate over pairs\n",
    "for key,value in student.items():\n",
    "    print(f\"{key}:{value}\")"
   ]
  },
  {
   "cell_type": "code",
   "execution_count": null,
   "id": "5de0779d",
   "metadata": {},
   "outputs": [],
   "source": []
  }
 ],
 "metadata": {
  "kernelspec": {
   "display_name": "Python 3",
   "language": "python",
   "name": "python3"
  },
  "language_info": {
   "codemirror_mode": {
    "name": "ipython",
    "version": 3
   },
   "file_extension": ".py",
   "mimetype": "text/x-python",
   "name": "python",
   "nbconvert_exporter": "python",
   "pygments_lexer": "ipython3",
   "version": "3.12.0"
  }
 },
 "nbformat": 4,
 "nbformat_minor": 5
}
