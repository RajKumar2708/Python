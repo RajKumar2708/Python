{
 "cells": [
  {
   "cell_type": "code",
   "execution_count": null,
   "id": "b76fc1d2",
   "metadata": {},
   "outputs": [],
   "source": [
    "#Case Sensitive\n",
    "\n",
    "name=\"raj\"\n",
    "Name=\"Kumar\"\n",
    "\n",
    "print(name)\n",
    "print(Name)"
   ]
  },
  {
   "cell_type": "code",
   "execution_count": 1,
   "id": "3cb3813a",
   "metadata": {},
   "outputs": [
    {
     "name": "stdout",
     "output_type": "stream",
     "text": [
      "32 is Over 30\n"
     ]
    }
   ],
   "source": [
    "#Indentation\n",
    "\n",
    "age=32\n",
    "if age>30:\n",
    "    print(age,\"is Over 30\")"
   ]
  },
  {
   "cell_type": "code",
   "execution_count": 2,
   "id": "8a2e7a88",
   "metadata": {},
   "outputs": [
    {
     "name": "stdout",
     "output_type": "stream",
     "text": [
      "21\n"
     ]
    }
   ],
   "source": [
    "#Line Continuation\n",
    "\n",
    "total=1+2+3+\\\n",
    "4+5+6\n",
    "\n",
    "print(total)"
   ]
  },
  {
   "cell_type": "code",
   "execution_count": 3,
   "id": "76eed501",
   "metadata": {},
   "outputs": [
    {
     "name": "stdout",
     "output_type": "stream",
     "text": [
      "7\n"
     ]
    }
   ],
   "source": [
    "#Multiple Statement in Single Line\n",
    "\n",
    "x=5;y=0;z=7\n",
    "\n",
    "print(z)"
   ]
  },
  {
   "cell_type": "code",
   "execution_count": null,
   "id": "937216df",
   "metadata": {},
   "outputs": [],
   "source": [
    "#Variable Assignment\n",
    "\n",
    "age=19\n",
    "name=\"Raj\"\n",
    "print(type(age))\n",
    "print(type(name))"
   ]
  }
 ],
 "metadata": {
  "kernelspec": {
   "display_name": "Python 3",
   "language": "python",
   "name": "python3"
  },
  "language_info": {
   "codemirror_mode": {
    "name": "ipython",
    "version": 3
   },
   "file_extension": ".py",
   "mimetype": "text/x-python",
   "name": "python",
   "nbconvert_exporter": "python",
   "pygments_lexer": "ipython3",
   "version": "3.12.0"
  }
 },
 "nbformat": 4,
 "nbformat_minor": 5
}
