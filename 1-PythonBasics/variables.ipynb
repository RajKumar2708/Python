{
 "cells": [
  {
   "cell_type": "code",
   "execution_count": 2,
   "id": "ce98d7c4",
   "metadata": {},
   "outputs": [
    {
     "name": "stdout",
     "output_type": "stream",
     "text": [
      "age : 32\n",
      "height : 5.9\n",
      "name : Raj\n"
     ]
    }
   ],
   "source": [
    "age=32\n",
    "height=5.9\n",
    "name=\"Raj\"\n",
    "is_student=True\n",
    "\n",
    "print(\"age :\",age)\n",
    "print(\"height :\", height)\n",
    "print(\"name :\",name)"
   ]
  },
  {
   "cell_type": "code",
   "execution_count": null,
   "id": "70a50fd6",
   "metadata": {},
   "outputs": [
    {
     "name": "stdout",
     "output_type": "stream",
     "text": [
      "<class 'int'>\n"
     ]
    },
    {
     "data": {
      "text/plain": [
       "5"
      ]
     },
     "execution_count": 8,
     "metadata": {},
     "output_type": "execute_result"
    }
   ],
   "source": [
    "#Variable COnversion\n",
    "\n",
    "height=5.11\n",
    "print(type(int(height)))\n",
    "int(height)\n",
    "\n"
   ]
  },
  {
   "cell_type": "code",
   "execution_count": null,
   "id": "4ebeb2a7",
   "metadata": {},
   "outputs": [
    {
     "name": "stdout",
     "output_type": "stream",
     "text": [
      "<class 'str'>\n"
     ]
    },
    {
     "data": {
      "text/plain": [
       "'5.11'"
      ]
     },
     "execution_count": 9,
     "metadata": {},
     "output_type": "execute_result"
    }
   ],
   "source": [
    "#Varib=able Conversion\n",
    "\n",
    "height=5.11\n",
    "print(type(str(height)))\n",
    "str(height)"
   ]
  },
  {
   "cell_type": "code",
   "execution_count": null,
   "id": "8119a9a8",
   "metadata": {},
   "outputs": [
    {
     "name": "stdout",
     "output_type": "stream",
     "text": [
      "10 <class 'int'>\n",
      "abc <class 'str'>\n",
      "3.12 <class 'float'>\n"
     ]
    }
   ],
   "source": [
    "#dynamic typing\n",
    "\n",
    "var=10\n",
    "print(var,type(var))\n",
    "\n",
    "var=\"abc\"\n",
    "print(var,type(var))\n",
    "\n",
    "var=3.12\n",
    "print(var,type(var))\n"
   ]
  },
  {
   "cell_type": "code",
   "execution_count": 13,
   "id": "97026590",
   "metadata": {},
   "outputs": [
    {
     "name": "stdout",
     "output_type": "stream",
     "text": [
      "Sum : 110\n",
      "Sub : -2\n",
      "Mul : 3024\n",
      "Div : 0.9642857142857143\n"
     ]
    }
   ],
   "source": [
    "#Simple Calculator\n",
    "\n",
    "num1=int(input(\"Enter 1st Number\"))\n",
    "num2=int(input(\"Enter 2nd Number\"))\n",
    "\n",
    "sum=num1+num2\n",
    "sub=num1-num2\n",
    "mul=num1*num2\n",
    "div=num1/num2\n",
    "\n",
    "print(\"Sum :\",sum)\n",
    "print(\"Sub :\",sub)\n",
    "print(\"Mul :\",mul)\n",
    "print(\"Div :\",div)"
   ]
  }
 ],
 "metadata": {
  "kernelspec": {
   "display_name": "Python 3",
   "language": "python",
   "name": "python3"
  },
  "language_info": {
   "codemirror_mode": {
    "name": "ipython",
    "version": 3
   },
   "file_extension": ".py",
   "mimetype": "text/x-python",
   "name": "python",
   "nbconvert_exporter": "python",
   "pygments_lexer": "ipython3",
   "version": "3.12.0"
  }
 },
 "nbformat": 4,
 "nbformat_minor": 5
}
