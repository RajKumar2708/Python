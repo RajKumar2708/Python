{
 "cells": [
  {
   "cell_type": "code",
   "execution_count": 1,
   "id": "d56efbeb",
   "metadata": {},
   "outputs": [
    {
     "name": "stdout",
     "output_type": "stream",
     "text": [
      "You are eligible to vote\n"
     ]
    }
   ],
   "source": [
    "#if statement\n",
    "age=20\n",
    "\n",
    "if age>=18:\n",
    "    print(\"You are eligible to vote\")"
   ]
  },
  {
   "cell_type": "code",
   "execution_count": 3,
   "id": "8577ee06",
   "metadata": {},
   "outputs": [
    {
     "name": "stdout",
     "output_type": "stream",
     "text": [
      "you are not eligible to vote\n"
     ]
    }
   ],
   "source": [
    "#if else \n",
    "age=16\n",
    "\n",
    "if age>=18:\n",
    "    print(\"you are eligible to vote\")\n",
    "else:\n",
    "    print(\"you are not eligible to vote\")"
   ]
  },
  {
   "cell_type": "code",
   "execution_count": 5,
   "id": "5cce822d",
   "metadata": {},
   "outputs": [
    {
     "name": "stdout",
     "output_type": "stream",
     "text": [
      "You are an adult\n"
     ]
    }
   ],
   "source": [
    "#elif\n",
    "age =13\n",
    "\n",
    "if age>15:\n",
    "    print(\"You are a child\")\n",
    "elif age>18:\n",
    "    print(\"You are a teenager\")\n",
    "else:\n",
    "    print(\"You are an adult\")"
   ]
  },
  {
   "cell_type": "code",
   "execution_count": 7,
   "id": "46790335",
   "metadata": {},
   "outputs": [
    {
     "name": "stdout",
     "output_type": "stream",
     "text": [
      "The number is zero\n"
     ]
    }
   ],
   "source": [
    "#Nested Conditional Statement\n",
    "\n",
    "num=int(input(\"Enter a number:\"))\n",
    "\n",
    "if num>0:\n",
    "    if num%2==0:\n",
    "        print(\"The number is even and positive\")\n",
    "    else:\n",
    "        print(\"The number is odd and positive\")\n",
    "elif num==0:\n",
    "    print(\"The number is zero\")\n",
    "else:\n",
    "    if num%2==0:\n",
    "        print(\"The number is even and negative\")\n",
    "    else:\n",
    "        print(\"The number is odd and negative\")"
   ]
  }
 ],
 "metadata": {
  "kernelspec": {
   "display_name": "Python 3",
   "language": "python",
   "name": "python3"
  },
  "language_info": {
   "codemirror_mode": {
    "name": "ipython",
    "version": 3
   },
   "file_extension": ".py",
   "mimetype": "text/x-python",
   "name": "python",
   "nbconvert_exporter": "python",
   "pygments_lexer": "ipython3",
   "version": "3.12.0"
  }
 },
 "nbformat": 4,
 "nbformat_minor": 5
}
